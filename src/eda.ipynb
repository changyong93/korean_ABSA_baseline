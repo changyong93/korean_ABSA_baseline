{
 "cells": [
  {
   "cell_type": "code",
   "execution_count": 76,
   "metadata": {},
   "outputs": [],
   "source": [
    "import os\n",
    "from collections import defaultdict"
   ]
  },
  {
   "cell_type": "code",
   "execution_count": 77,
   "metadata": {},
   "outputs": [],
   "source": [
    "with open('../data/NIKL_ABSA_2022_COMPETITION_v1.0/nikluge-sa-2022-train.jsonl', \"r\", encoding='utf-8') as f:\n",
    "    train_data = []\n",
    "    for line in f:\n",
    "        train_data.append(eval(line.replace(\"\\n\",\"\").replace(\"null\",\"-1\")))\n",
    "\n",
    "with open(\"../data/NIKL_ABSA_2022_COMPETITION_v1.0/nikluge-sa-2022-dev.jsonl\",\"r\", encoding='utf-8') as f:\n",
    "    dev_data = []\n",
    "    for line in f:\n",
    "        dev_data.append(eval(line.replace(\"\\n\",\"\").replace(\"null\",\"-1\")))\n",
    "\n",
    "with open('../data/NIKL_ABSA_2022_COMPETITION_v1.0/nikluge-sa-2022-test.jsonl',\"r\", encoding='utf-8') as f:\n",
    "    test_data = []\n",
    "    for line in f:\n",
    "        test_data.append(eval(line.replace(\"\\n\",\"\").replace(\"null\",\"-1\")))\n"
   ]
  },
  {
   "cell_type": "code",
   "execution_count": 78,
   "metadata": {},
   "outputs": [],
   "source": [
    "for i,tmp_train in enumerate(train_data):\n",
    "    for j,anno in enumerate(tmp_train['annotation']):\n",
    "        if anno[1][0] == -1:\n",
    "            train_data[i]['annotation'][j][1][0] = None\n",
    "\n",
    "for i,tmp_dev in enumerate(dev_data):\n",
    "    for j,anno in enumerate(tmp_dev['annotation']):\n",
    "        if anno[1][0] == -1:\n",
    "            dev_data[i]['annotation'][j][1][0] = None\n"
   ]
  },
  {
   "cell_type": "code",
   "execution_count": 79,
   "metadata": {},
   "outputs": [],
   "source": [
    "train_data_dict = defaultdict(dict)\n",
    "for tmp_train in train_data:\n",
    "    for tmp_anno in tmp_train['annotation']:\n",
    "        if tmp_anno[-1] not in train_data_dict[tmp_anno[0]].keys():\n",
    "            train_data_dict[tmp_anno[0]][tmp_anno[-1]]=0\n",
    "        train_data_dict[tmp_anno[0]][tmp_anno[-1]] +=1\n",
    "\n",
    "dev_data_dict = defaultdict(dict)\n",
    "for tmp_dev in dev_data:\n",
    "    for tmp_anno in tmp_dev['annotation']:\n",
    "        if tmp_anno[-1] not in dev_data_dict[tmp_anno[0]].keys():\n",
    "            dev_data_dict[tmp_anno[0]][tmp_anno[-1]]=0\n",
    "        dev_data_dict[tmp_anno[0]][tmp_anno[-1]] +=1"
   ]
  },
  {
   "cell_type": "code",
   "execution_count": 80,
   "metadata": {},
   "outputs": [
    {
     "data": {
      "text/plain": [
       "defaultdict(dict,\n",
       "            {'본품#품질': {'negative': 13, 'positive': 1158, 'neutral': 25},\n",
       "             '제품 전체#일반': {'positive': 801, 'neutral': 42, 'negative': 5},\n",
       "             '본품#일반': {'negative': 6, 'positive': 244, 'neutral': 6},\n",
       "             '제품 전체#가격': {'negative': 5, 'neutral': 3, 'positive': 41},\n",
       "             '제품 전체#편의성': {'negative': 2, 'positive': 90, 'neutral': 2},\n",
       "             '제품 전체#디자인': {'neutral': 5, 'negative': 16, 'positive': 137},\n",
       "             '패키지/구성품#일반': {'positive': 29, 'neutral': 1},\n",
       "             '패키지/구성품#편의성': {'neutral': 1, 'positive': 37},\n",
       "             '제품 전체#품질': {'positive': 237, 'neutral': 5},\n",
       "             '브랜드#가격': {'positive': 3},\n",
       "             '본품#편의성': {'positive': 89, 'negative': 6},\n",
       "             '본품#디자인': {'negative': 1, 'positive': 13, 'neutral': 1},\n",
       "             '브랜드#일반': {'positive': 49, 'negative': 1, 'neutral': 3},\n",
       "             '브랜드#품질': {'negative': 2, 'positive': 10, 'neutral': 1},\n",
       "             '제품 전체#인지도': {'positive': 66},\n",
       "             '패키지/구성품#디자인': {'positive': 54},\n",
       "             '본품#다양성': {'positive': 21},\n",
       "             '패키지/구성품#품질': {'positive': 11},\n",
       "             '패키지/구성품#다양성': {'positive': 1},\n",
       "             '브랜드#인지도': {'positive': 8, 'negative': 1},\n",
       "             '본품#가격': {'positive': 2},\n",
       "             '본품#인지도': {'positive': 1}})"
      ]
     },
     "execution_count": 80,
     "metadata": {},
     "output_type": "execute_result"
    }
   ],
   "source": [
    "train_data_dict"
   ]
  },
  {
   "cell_type": "code",
   "execution_count": 81,
   "metadata": {},
   "outputs": [
    {
     "data": {
      "text/plain": [
       "defaultdict(dict,\n",
       "            {'본품#편의성': {'positive': 95, 'neutral': 1},\n",
       "             '본품#일반': {'positive': 222, 'neutral': 9, 'negative': 4},\n",
       "             '패키지/구성품#디자인': {'positive': 61, 'negative': 2},\n",
       "             '제품 전체#품질': {'positive': 246, 'negative': 1, 'neutral': 4},\n",
       "             '제품 전체#일반': {'positive': 749, 'neutral': 19, 'negative': 8},\n",
       "             '브랜드#일반': {'neutral': 2, 'positive': 48},\n",
       "             '제품 전체#디자인': {'negative': 3, 'positive': 121, 'neutral': 4},\n",
       "             '본품#품질': {'positive': 1169, 'negative': 4, 'neutral': 11},\n",
       "             '제품 전체#편의성': {'positive': 84, 'negative': 1, 'neutral': 1},\n",
       "             '패키지/구성품#일반': {'positive': 20},\n",
       "             '패키지/구성품#품질': {'positive': 8},\n",
       "             '패키지/구성품#가격': {'negative': 1},\n",
       "             '브랜드#가격': {'negative': 1, 'positive': 3},\n",
       "             '제품 전체#가격': {'positive': 39, 'neutral': 2, 'negative': 2},\n",
       "             '패키지/구성품#다양성': {'positive': 2},\n",
       "             '제품 전체#인지도': {'positive': 75},\n",
       "             '패키지/구성품#편의성': {'positive': 26, 'negative': 1},\n",
       "             '본품#다양성': {'positive': 10},\n",
       "             '본품#디자인': {'positive': 5, 'neutral': 1},\n",
       "             '브랜드#인지도': {'positive': 8},\n",
       "             '브랜드#품질': {'positive': 6}})"
      ]
     },
     "execution_count": 81,
     "metadata": {},
     "output_type": "execute_result"
    }
   ],
   "source": [
    "dev_data_dict"
   ]
  },
  {
   "cell_type": "code",
   "execution_count": null,
   "metadata": {},
   "outputs": [],
   "source": []
  }
 ],
 "metadata": {
  "kernelspec": {
   "display_name": "Python 3.10.4 ('py310')",
   "language": "python",
   "name": "python3"
  },
  "language_info": {
   "codemirror_mode": {
    "name": "ipython",
    "version": 3
   },
   "file_extension": ".py",
   "mimetype": "text/x-python",
   "name": "python",
   "nbconvert_exporter": "python",
   "pygments_lexer": "ipython3",
   "version": "3.10.4"
  },
  "orig_nbformat": 4,
  "vscode": {
   "interpreter": {
    "hash": "e6a6130fb5c334b06cb6cede1e6b5e70132fe2ccd24483a49590c14ad0ef0989"
   }
  }
 },
 "nbformat": 4,
 "nbformat_minor": 2
}
